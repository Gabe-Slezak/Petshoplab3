{
  "nbformat": 4,
  "nbformat_minor": 0,
  "metadata": {
    "colab": {
      "name": "Skishop(Group Assignment 2).ipynb",
      "provenance": [],
      "collapsed_sections": []
    },
    "kernelspec": {
      "name": "python3",
      "display_name": "Python 3"
    }
  },
  "cells": [
    {
      "cell_type": "markdown",
      "metadata": {
        "id": "Krce7ZyHs7WP",
        "colab_type": "text"
      },
      "source": [
        "###Transactions\n",
        "The transaction primary key is the main key component of our ski shop ER diagram as it brings in our revenue. It contains information about expenditures of the shop, the four attributes of the shop contain:\n",
        "1. Price - the cost of our transactions\n",
        "2. Date - the date the transactions take place\n",
        "3. Facility ID - The specific facility this transaction took place\n",
        "4. EquipmentID - The type of equipment purchased\n",
        "\n",
        "Transaction was connected to facility and equipment because they are a large source of our revenue.\n",
        "\n",
        "###Equipment\n",
        "Equipment is one of our primary keys. Our attributes are type of equipment, season equipment is used, price of equipment, and sports equipment are used for. We connected the primary key equipment to transaction because selling equipment is a large source of our income. Equipment is also connected to sport because many of our equipment can be used for one of our many sports.\n",
        "\n",
        "###Facility\n",
        "Multiple training facilities are a part of our ski shop ER diagram, it offers training areas and a place for customers to test our products before purchasing. Attributes include location, season, and square feet of the facilities. We connected it to transactions because using this facility brings in revenue.\n",
        "\n",
        "###Sport\n",
        "We made the table sport in order to categorize our merchandise. We categorized them by three attributes of type, season, and equipment. Sport is connected to equipment because many equipment can be used for one of our many sports.\n",
        "\n",
        "###Employees\n",
        "The staff is an important component of our ski shop ER diagram. One cannot run a business without good employees. Attributes include name, phone number, type, and facility in which they work at. \n"
      ]
    },
    {
      "cell_type": "markdown",
      "metadata": {
        "id": "jYsp8U4zslo9",
        "colab_type": "text"
      },
      "source": [
        "![alt text](https://drive.google.com/uc?id=1Rx-OzirgbHBzcRfCk5bjLV4hGSXwOaME)"
      ]
    }
  ]
}